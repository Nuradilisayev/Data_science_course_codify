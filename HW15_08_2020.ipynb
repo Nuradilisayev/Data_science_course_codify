{
  "nbformat": 4,
  "nbformat_minor": 0,
  "metadata": {
    "colab": {
      "name": "HW15.08.2020.ipynb",
      "provenance": [],
      "collapsed_sections": [],
      "authorship_tag": "ABX9TyMNVdImW928NyhJINPzx3Gb",
      "include_colab_link": true
    },
    "kernelspec": {
      "name": "python3",
      "display_name": "Python 3"
    }
  },
  "cells": [
    {
      "cell_type": "markdown",
      "metadata": {
        "id": "view-in-github",
        "colab_type": "text"
      },
      "source": [
        "<a href=\"https://colab.research.google.com/github/Nuradilisayev/Data_science_course_codify/blob/master/HW15_08_2020.ipynb\" target=\"_parent\"><img src=\"https://colab.research.google.com/assets/colab-badge.svg\" alt=\"Open In Colab\"/></a>"
      ]
    },
    {
      "cell_type": "code",
      "metadata": {
        "id": "7axrnEebMRKg",
        "colab_type": "code",
        "colab": {
          "base_uri": "https://localhost:8080/",
          "height": 50
        },
        "outputId": "c20a5dce-44a2-4aee-877a-f68248e5d8f8"
      },
      "source": [
        "!unzip /content/806447_1382162_bundle_archive.zip"
      ],
      "execution_count": 1,
      "outputs": [
        {
          "output_type": "stream",
          "text": [
            "Archive:  /content/806447_1382162_bundle_archive.zip\n",
            "  inflating: shootings.csv           \n"
          ],
          "name": "stdout"
        }
      ]
    },
    {
      "cell_type": "code",
      "metadata": {
        "id": "zBD5fz_8MgXq",
        "colab_type": "code",
        "colab": {
          "base_uri": "https://localhost:8080/",
          "height": 70
        },
        "outputId": "52862b0a-f8c4-4530-c8b0-bd1e79f0e146"
      },
      "source": [
        "import pandas as pd\n",
        "import seaborn as sns\n",
        "import numpy as np\n",
        "import matplotlib.pyplot as plt\n"
      ],
      "execution_count": 3,
      "outputs": [
        {
          "output_type": "stream",
          "text": [
            "/usr/local/lib/python3.6/dist-packages/statsmodels/tools/_testing.py:19: FutureWarning: pandas.util.testing is deprecated. Use the functions in the public API at pandas.testing instead.\n",
            "  import pandas.util.testing as tm\n"
          ],
          "name": "stderr"
        }
      ]
    },
    {
      "cell_type": "code",
      "metadata": {
        "id": "5_qVBzUTMo1m",
        "colab_type": "code",
        "colab": {}
      },
      "source": [
        "df=pd.read_csv('/content/shootings.csv',parse_dates=['date'])"
      ],
      "execution_count": 7,
      "outputs": []
    },
    {
      "cell_type": "code",
      "metadata": {
        "id": "niD8gvSoNDH7",
        "colab_type": "code",
        "colab": {
          "base_uri": "https://localhost:8080/",
          "height": 386
        },
        "outputId": "3e91f9f9-7940-4ab0-ae0c-66a0e11596f9"
      },
      "source": [
        "df.info()"
      ],
      "execution_count": 9,
      "outputs": [
        {
          "output_type": "stream",
          "text": [
            "<class 'pandas.core.frame.DataFrame'>\n",
            "RangeIndex: 4895 entries, 0 to 4894\n",
            "Data columns (total 15 columns):\n",
            " #   Column                   Non-Null Count  Dtype         \n",
            "---  ------                   --------------  -----         \n",
            " 0   id                       4895 non-null   int64         \n",
            " 1   name                     4895 non-null   object        \n",
            " 2   date                     4895 non-null   datetime64[ns]\n",
            " 3   manner_of_death          4895 non-null   object        \n",
            " 4   armed                    4895 non-null   object        \n",
            " 5   age                      4895 non-null   float64       \n",
            " 6   gender                   4895 non-null   object        \n",
            " 7   race                     4895 non-null   object        \n",
            " 8   city                     4895 non-null   object        \n",
            " 9   state                    4895 non-null   object        \n",
            " 10  signs_of_mental_illness  4895 non-null   bool          \n",
            " 11  threat_level             4895 non-null   object        \n",
            " 12  flee                     4895 non-null   object        \n",
            " 13  body_camera              4895 non-null   bool          \n",
            " 14  arms_category            4895 non-null   object        \n",
            "dtypes: bool(2), datetime64[ns](1), float64(1), int64(1), object(10)\n",
            "memory usage: 506.8+ KB\n"
          ],
          "name": "stdout"
        }
      ]
    },
    {
      "cell_type": "code",
      "metadata": {
        "id": "ICj0aN7nNFBA",
        "colab_type": "code",
        "colab": {
          "base_uri": "https://localhost:8080/",
          "height": 297
        },
        "outputId": "bb3d756c-90e7-4ff2-d50d-2b465ade76b4"
      },
      "source": [
        "df.describe()"
      ],
      "execution_count": 10,
      "outputs": [
        {
          "output_type": "execute_result",
          "data": {
            "text/html": [
              "<div>\n",
              "<style scoped>\n",
              "    .dataframe tbody tr th:only-of-type {\n",
              "        vertical-align: middle;\n",
              "    }\n",
              "\n",
              "    .dataframe tbody tr th {\n",
              "        vertical-align: top;\n",
              "    }\n",
              "\n",
              "    .dataframe thead th {\n",
              "        text-align: right;\n",
              "    }\n",
              "</style>\n",
              "<table border=\"1\" class=\"dataframe\">\n",
              "  <thead>\n",
              "    <tr style=\"text-align: right;\">\n",
              "      <th></th>\n",
              "      <th>id</th>\n",
              "      <th>age</th>\n",
              "    </tr>\n",
              "  </thead>\n",
              "  <tbody>\n",
              "    <tr>\n",
              "      <th>count</th>\n",
              "      <td>4895.000000</td>\n",
              "      <td>4895.000000</td>\n",
              "    </tr>\n",
              "    <tr>\n",
              "      <th>mean</th>\n",
              "      <td>2902.148519</td>\n",
              "      <td>36.549750</td>\n",
              "    </tr>\n",
              "    <tr>\n",
              "      <th>std</th>\n",
              "      <td>1683.467910</td>\n",
              "      <td>12.694348</td>\n",
              "    </tr>\n",
              "    <tr>\n",
              "      <th>min</th>\n",
              "      <td>3.000000</td>\n",
              "      <td>6.000000</td>\n",
              "    </tr>\n",
              "    <tr>\n",
              "      <th>25%</th>\n",
              "      <td>1441.500000</td>\n",
              "      <td>27.000000</td>\n",
              "    </tr>\n",
              "    <tr>\n",
              "      <th>50%</th>\n",
              "      <td>2847.000000</td>\n",
              "      <td>35.000000</td>\n",
              "    </tr>\n",
              "    <tr>\n",
              "      <th>75%</th>\n",
              "      <td>4352.500000</td>\n",
              "      <td>45.000000</td>\n",
              "    </tr>\n",
              "    <tr>\n",
              "      <th>max</th>\n",
              "      <td>5925.000000</td>\n",
              "      <td>91.000000</td>\n",
              "    </tr>\n",
              "  </tbody>\n",
              "</table>\n",
              "</div>"
            ],
            "text/plain": [
              "                id          age\n",
              "count  4895.000000  4895.000000\n",
              "mean   2902.148519    36.549750\n",
              "std    1683.467910    12.694348\n",
              "min       3.000000     6.000000\n",
              "25%    1441.500000    27.000000\n",
              "50%    2847.000000    35.000000\n",
              "75%    4352.500000    45.000000\n",
              "max    5925.000000    91.000000"
            ]
          },
          "metadata": {
            "tags": []
          },
          "execution_count": 10
        }
      ]
    },
    {
      "cell_type": "code",
      "metadata": {
        "id": "lOqkWQ-NN5Kx",
        "colab_type": "code",
        "colab": {
          "base_uri": "https://localhost:8080/",
          "height": 142
        },
        "outputId": "2f3aee88-d43e-4a85-9ba1-45d1fa4fc352"
      },
      "source": [
        "df.sample(3)"
      ],
      "execution_count": 25,
      "outputs": [
        {
          "output_type": "execute_result",
          "data": {
            "text/html": [
              "<div>\n",
              "<style scoped>\n",
              "    .dataframe tbody tr th:only-of-type {\n",
              "        vertical-align: middle;\n",
              "    }\n",
              "\n",
              "    .dataframe tbody tr th {\n",
              "        vertical-align: top;\n",
              "    }\n",
              "\n",
              "    .dataframe thead th {\n",
              "        text-align: right;\n",
              "    }\n",
              "</style>\n",
              "<table border=\"1\" class=\"dataframe\">\n",
              "  <thead>\n",
              "    <tr style=\"text-align: right;\">\n",
              "      <th></th>\n",
              "      <th>id</th>\n",
              "      <th>name</th>\n",
              "      <th>date</th>\n",
              "      <th>manner_of_death</th>\n",
              "      <th>armed</th>\n",
              "      <th>age</th>\n",
              "      <th>gender</th>\n",
              "      <th>race</th>\n",
              "      <th>city</th>\n",
              "      <th>state</th>\n",
              "      <th>signs_of_mental_illness</th>\n",
              "      <th>threat_level</th>\n",
              "      <th>flee</th>\n",
              "      <th>body_camera</th>\n",
              "      <th>arms_category</th>\n",
              "    </tr>\n",
              "  </thead>\n",
              "  <tbody>\n",
              "    <tr>\n",
              "      <th>2864</th>\n",
              "      <td>3362</td>\n",
              "      <td>Gregory Kocian</td>\n",
              "      <td>2018-01-28</td>\n",
              "      <td>shot</td>\n",
              "      <td>gun</td>\n",
              "      <td>33.0</td>\n",
              "      <td>M</td>\n",
              "      <td>White</td>\n",
              "      <td>Conroe</td>\n",
              "      <td>TX</td>\n",
              "      <td>False</td>\n",
              "      <td>attack</td>\n",
              "      <td>Car</td>\n",
              "      <td>False</td>\n",
              "      <td>Guns</td>\n",
              "    </tr>\n",
              "    <tr>\n",
              "      <th>1865</th>\n",
              "      <td>2176</td>\n",
              "      <td>Jamal Rollins</td>\n",
              "      <td>2016-12-30</td>\n",
              "      <td>shot</td>\n",
              "      <td>gun</td>\n",
              "      <td>21.0</td>\n",
              "      <td>M</td>\n",
              "      <td>Black</td>\n",
              "      <td>Miami</td>\n",
              "      <td>FL</td>\n",
              "      <td>False</td>\n",
              "      <td>other</td>\n",
              "      <td>Car</td>\n",
              "      <td>False</td>\n",
              "      <td>Guns</td>\n",
              "    </tr>\n",
              "    <tr>\n",
              "      <th>985</th>\n",
              "      <td>1162</td>\n",
              "      <td>Alan Paul Bartley</td>\n",
              "      <td>2016-01-11</td>\n",
              "      <td>shot</td>\n",
              "      <td>unknown</td>\n",
              "      <td>56.0</td>\n",
              "      <td>M</td>\n",
              "      <td>White</td>\n",
              "      <td>San Fernando</td>\n",
              "      <td>CA</td>\n",
              "      <td>False</td>\n",
              "      <td>attack</td>\n",
              "      <td>Car</td>\n",
              "      <td>False</td>\n",
              "      <td>Unknown</td>\n",
              "    </tr>\n",
              "  </tbody>\n",
              "</table>\n",
              "</div>"
            ],
            "text/plain": [
              "        id               name       date  ... flee body_camera  arms_category\n",
              "2864  3362     Gregory Kocian 2018-01-28  ...  Car       False           Guns\n",
              "1865  2176      Jamal Rollins 2016-12-30  ...  Car       False           Guns\n",
              "985   1162  Alan Paul Bartley 2016-01-11  ...  Car       False        Unknown\n",
              "\n",
              "[3 rows x 15 columns]"
            ]
          },
          "metadata": {
            "tags": []
          },
          "execution_count": 25
        }
      ]
    },
    {
      "cell_type": "code",
      "metadata": {
        "id": "ZaCZ72iMN-Xx",
        "colab_type": "code",
        "colab": {
          "base_uri": "https://localhost:8080/",
          "height": 351
        },
        "outputId": "abc7d58f-3f25-428f-d77e-f44d9f22284e"
      },
      "source": [
        "plt.figure(figsize=(10, 5))\n",
        "sns.distplot(df.age)"
      ],
      "execution_count": 30,
      "outputs": [
        {
          "output_type": "execute_result",
          "data": {
            "text/plain": [
              "<matplotlib.axes._subplots.AxesSubplot at 0x7f886d97fb38>"
            ]
          },
          "metadata": {
            "tags": []
          },
          "execution_count": 30
        },
        {
          "output_type": "display_data",
          "data": {
            "image/png": "[encoded data removed]",
            "text/plain": [
              "<Figure size 720x360 with 1 Axes>"
            ]
          },
          "metadata": {
            "tags": [],
            "needs_background": "light"
          }
        }
      ]
    },
    {
      "cell_type": "code",
      "metadata": {
        "id": "PkZBvAUbOlQm",
        "colab_type": "code",
        "colab": {
          "base_uri": "https://localhost:8080/",
          "height": 238
        },
        "outputId": "380c544d-4635-4a10-8639-ae59522b6761"
      },
      "source": [
        "df['arms_category'].value_counts()"
      ],
      "execution_count": 32,
      "outputs": [
        {
          "output_type": "execute_result",
          "data": {
            "text/plain": [
              "Guns                     2764\n",
              "Sharp objects             818\n",
              "Unknown                   418\n",
              "Unarmed                   348\n",
              "Other unusual objects     192\n",
              "Blunt instruments         122\n",
              "Vehicles                  121\n",
              "Multiple                   54\n",
              "Piercing objects           29\n",
              "Electrical devices         24\n",
              "Explosives                  4\n",
              "Hand tools                  1\n",
              "Name: arms_category, dtype: int64"
            ]
          },
          "metadata": {
            "tags": []
          },
          "execution_count": 32
        }
      ]
    },
    {
      "cell_type": "code",
      "metadata": {
        "id": "UIZl1QkRPhgn",
        "colab_type": "code",
        "colab": {}
      },
      "source": [
        "summ_by_state = df.groupby('state')['state'].count().sort_values(ascending=False)"
      ],
      "execution_count": 85,
      "outputs": []
    },
    {
      "cell_type": "code",
      "metadata": {
        "id": "nHxqpFs3UiuV",
        "colab_type": "code",
        "colab": {
          "base_uri": "https://localhost:8080/",
          "height": 221
        },
        "outputId": "e0047656-cfa0-4dd3-c25a-abe623e9d614"
      },
      "source": [
        "summ_by_state.head(10)"
      ],
      "execution_count": 162,
      "outputs": [
        {
          "output_type": "execute_result",
          "data": {
            "text/plain": [
              "state\n",
              "CA    701\n",
              "TX    426\n",
              "FL    324\n",
              "AZ    222\n",
              "CO    168\n",
              "GA    161\n",
              "OK    151\n",
              "NC    148\n",
              "OH    146\n",
              "WA    126\n",
              "Name: state, dtype: int64"
            ]
          },
          "metadata": {
            "tags": []
          },
          "execution_count": 162
        }
      ]
    },
    {
      "cell_type": "code",
      "metadata": {
        "id": "WAar7HZOUUnA",
        "colab_type": "code",
        "colab": {}
      },
      "source": [
        "list_of_states = summ_by_state.where(summ_by_state>300).dropna().index.to_list()"
      ],
      "execution_count": 94,
      "outputs": []
    },
    {
      "cell_type": "code",
      "metadata": {
        "id": "dEOMGcz7XvaK",
        "colab_type": "code",
        "colab": {
          "base_uri": "https://localhost:8080/",
          "height": 34
        },
        "outputId": "2603eae8-969c-4fef-b6bc-7a3ba2ef5949"
      },
      "source": [
        "list_of_states"
      ],
      "execution_count": 95,
      "outputs": [
        {
          "output_type": "execute_result",
          "data": {
            "text/plain": [
              "['CA', 'TX', 'FL']"
            ]
          },
          "metadata": {
            "tags": []
          },
          "execution_count": 95
        }
      ]
    },
    {
      "cell_type": "code",
      "metadata": {
        "id": "7IEhL2Q6XQHJ",
        "colab_type": "code",
        "colab": {
          "base_uri": "https://localhost:8080/",
          "height": 419
        },
        "outputId": "cd3d4371-8033-4caa-be67-ab07f514a7c1"
      },
      "source": [
        "df[df['state'].isin(list_of_states)]"
      ],
      "execution_count": 98,
      "outputs": [
        {
          "output_type": "execute_result",
          "data": {
            "text/html": [
              "<div>\n",
              "<style scoped>\n",
              "    .dataframe tbody tr th:only-of-type {\n",
              "        vertical-align: middle;\n",
              "    }\n",
              "\n",
              "    .dataframe tbody tr th {\n",
              "        vertical-align: top;\n",
              "    }\n",
              "\n",
              "    .dataframe thead th {\n",
              "        text-align: right;\n",
              "    }\n",
              "</style>\n",
              "<table border=\"1\" class=\"dataframe\">\n",
              "  <thead>\n",
              "    <tr style=\"text-align: right;\">\n",
              "      <th></th>\n",
              "      <th>id</th>\n",
              "      <th>name</th>\n",
              "      <th>date</th>\n",
              "      <th>manner_of_death</th>\n",
              "      <th>armed</th>\n",
              "      <th>age</th>\n",
              "      <th>gender</th>\n",
              "      <th>race</th>\n",
              "      <th>city</th>\n",
              "      <th>state</th>\n",
              "      <th>signs_of_mental_illness</th>\n",
              "      <th>threat_level</th>\n",
              "      <th>flee</th>\n",
              "      <th>body_camera</th>\n",
              "      <th>arms_category</th>\n",
              "    </tr>\n",
              "  </thead>\n",
              "  <tbody>\n",
              "    <tr>\n",
              "      <th>3</th>\n",
              "      <td>8</td>\n",
              "      <td>Matthew Hoffman</td>\n",
              "      <td>2015-01-04</td>\n",
              "      <td>shot</td>\n",
              "      <td>toy weapon</td>\n",
              "      <td>32.0</td>\n",
              "      <td>M</td>\n",
              "      <td>White</td>\n",
              "      <td>San Francisco</td>\n",
              "      <td>CA</td>\n",
              "      <td>True</td>\n",
              "      <td>attack</td>\n",
              "      <td>Not fleeing</td>\n",
              "      <td>False</td>\n",
              "      <td>Other unusual objects</td>\n",
              "    </tr>\n",
              "    <tr>\n",
              "      <th>10</th>\n",
              "      <td>19</td>\n",
              "      <td>Patrick Wetter</td>\n",
              "      <td>2015-01-06</td>\n",
              "      <td>shot and Tasered</td>\n",
              "      <td>knife</td>\n",
              "      <td>25.0</td>\n",
              "      <td>M</td>\n",
              "      <td>White</td>\n",
              "      <td>Stockton</td>\n",
              "      <td>CA</td>\n",
              "      <td>False</td>\n",
              "      <td>attack</td>\n",
              "      <td>Not fleeing</td>\n",
              "      <td>False</td>\n",
              "      <td>Sharp objects</td>\n",
              "    </tr>\n",
              "    <tr>\n",
              "      <th>11</th>\n",
              "      <td>21</td>\n",
              "      <td>Ron Sneed</td>\n",
              "      <td>2015-01-07</td>\n",
              "      <td>shot</td>\n",
              "      <td>gun</td>\n",
              "      <td>31.0</td>\n",
              "      <td>M</td>\n",
              "      <td>Black</td>\n",
              "      <td>Freeport</td>\n",
              "      <td>TX</td>\n",
              "      <td>False</td>\n",
              "      <td>attack</td>\n",
              "      <td>Not fleeing</td>\n",
              "      <td>False</td>\n",
              "      <td>Guns</td>\n",
              "    </tr>\n",
              "    <tr>\n",
              "      <th>20</th>\n",
              "      <td>325</td>\n",
              "      <td>Andy Martinez</td>\n",
              "      <td>2015-01-09</td>\n",
              "      <td>shot</td>\n",
              "      <td>gun</td>\n",
              "      <td>33.0</td>\n",
              "      <td>M</td>\n",
              "      <td>Hispanic</td>\n",
              "      <td>El Paso</td>\n",
              "      <td>TX</td>\n",
              "      <td>False</td>\n",
              "      <td>attack</td>\n",
              "      <td>Not fleeing</td>\n",
              "      <td>False</td>\n",
              "      <td>Guns</td>\n",
              "    </tr>\n",
              "    <tr>\n",
              "      <th>22</th>\n",
              "      <td>43</td>\n",
              "      <td>Brian  Barbosa</td>\n",
              "      <td>2015-01-11</td>\n",
              "      <td>shot</td>\n",
              "      <td>gun</td>\n",
              "      <td>23.0</td>\n",
              "      <td>M</td>\n",
              "      <td>Hispanic</td>\n",
              "      <td>South Gate</td>\n",
              "      <td>CA</td>\n",
              "      <td>False</td>\n",
              "      <td>attack</td>\n",
              "      <td>Not fleeing</td>\n",
              "      <td>False</td>\n",
              "      <td>Guns</td>\n",
              "    </tr>\n",
              "    <tr>\n",
              "      <th>...</th>\n",
              "      <td>...</td>\n",
              "      <td>...</td>\n",
              "      <td>...</td>\n",
              "      <td>...</td>\n",
              "      <td>...</td>\n",
              "      <td>...</td>\n",
              "      <td>...</td>\n",
              "      <td>...</td>\n",
              "      <td>...</td>\n",
              "      <td>...</td>\n",
              "      <td>...</td>\n",
              "      <td>...</td>\n",
              "      <td>...</td>\n",
              "      <td>...</td>\n",
              "      <td>...</td>\n",
              "    </tr>\n",
              "    <tr>\n",
              "      <th>4884</th>\n",
              "      <td>5900</td>\n",
              "      <td>Erik Salgado</td>\n",
              "      <td>2020-06-06</td>\n",
              "      <td>shot</td>\n",
              "      <td>unknown</td>\n",
              "      <td>22.0</td>\n",
              "      <td>M</td>\n",
              "      <td>Hispanic</td>\n",
              "      <td>Oakland</td>\n",
              "      <td>CA</td>\n",
              "      <td>False</td>\n",
              "      <td>undetermined</td>\n",
              "      <td>Not fleeing</td>\n",
              "      <td>False</td>\n",
              "      <td>Unknown</td>\n",
              "    </tr>\n",
              "    <tr>\n",
              "      <th>4885</th>\n",
              "      <td>5908</td>\n",
              "      <td>Jarrid Hurst</td>\n",
              "      <td>2020-06-07</td>\n",
              "      <td>shot</td>\n",
              "      <td>knife</td>\n",
              "      <td>35.0</td>\n",
              "      <td>M</td>\n",
              "      <td>White</td>\n",
              "      <td>Industry</td>\n",
              "      <td>CA</td>\n",
              "      <td>True</td>\n",
              "      <td>other</td>\n",
              "      <td>Not fleeing</td>\n",
              "      <td>False</td>\n",
              "      <td>Sharp objects</td>\n",
              "    </tr>\n",
              "    <tr>\n",
              "      <th>4886</th>\n",
              "      <td>5911</td>\n",
              "      <td>Lewis Ruffin</td>\n",
              "      <td>2020-06-09</td>\n",
              "      <td>shot</td>\n",
              "      <td>gun</td>\n",
              "      <td>38.0</td>\n",
              "      <td>M</td>\n",
              "      <td>Black</td>\n",
              "      <td>Orlando</td>\n",
              "      <td>FL</td>\n",
              "      <td>False</td>\n",
              "      <td>attack</td>\n",
              "      <td>Other</td>\n",
              "      <td>False</td>\n",
              "      <td>Guns</td>\n",
              "    </tr>\n",
              "    <tr>\n",
              "      <th>4888</th>\n",
              "      <td>5914</td>\n",
              "      <td>Mason James Lira</td>\n",
              "      <td>2020-06-11</td>\n",
              "      <td>shot</td>\n",
              "      <td>gun</td>\n",
              "      <td>26.0</td>\n",
              "      <td>M</td>\n",
              "      <td>White</td>\n",
              "      <td>Paso Robles</td>\n",
              "      <td>CA</td>\n",
              "      <td>True</td>\n",
              "      <td>attack</td>\n",
              "      <td>Foot</td>\n",
              "      <td>False</td>\n",
              "      <td>Guns</td>\n",
              "    </tr>\n",
              "    <tr>\n",
              "      <th>4889</th>\n",
              "      <td>5915</td>\n",
              "      <td>Michael Thomas</td>\n",
              "      <td>2020-06-11</td>\n",
              "      <td>shot</td>\n",
              "      <td>unknown</td>\n",
              "      <td>62.0</td>\n",
              "      <td>M</td>\n",
              "      <td>Black</td>\n",
              "      <td>Lancaster</td>\n",
              "      <td>CA</td>\n",
              "      <td>False</td>\n",
              "      <td>undetermined</td>\n",
              "      <td>Not fleeing</td>\n",
              "      <td>False</td>\n",
              "      <td>Unknown</td>\n",
              "    </tr>\n",
              "  </tbody>\n",
              "</table>\n",
              "<p>1451 rows × 15 columns</p>\n",
              "</div>"
            ],
            "text/plain": [
              "        id              name  ... body_camera          arms_category\n",
              "3        8   Matthew Hoffman  ...       False  Other unusual objects\n",
              "10      19    Patrick Wetter  ...       False          Sharp objects\n",
              "11      21         Ron Sneed  ...       False                   Guns\n",
              "20     325     Andy Martinez  ...       False                   Guns\n",
              "22      43    Brian  Barbosa  ...       False                   Guns\n",
              "...    ...               ...  ...         ...                    ...\n",
              "4884  5900      Erik Salgado  ...       False                Unknown\n",
              "4885  5908      Jarrid Hurst  ...       False          Sharp objects\n",
              "4886  5911      Lewis Ruffin  ...       False                   Guns\n",
              "4888  5914  Mason James Lira  ...       False                   Guns\n",
              "4889  5915    Michael Thomas  ...       False                Unknown\n",
              "\n",
              "[1451 rows x 15 columns]"
            ]
          },
          "metadata": {
            "tags": []
          },
          "execution_count": 98
        }
      ]
    },
    {
      "cell_type": "code",
      "metadata": {
        "id": "E9ceY6fNY8pC",
        "colab_type": "code",
        "colab": {}
      },
      "source": [
        "df_of_states=summ_by_state.to_frame().rename(columns={\"state\": \"amount_of_shootings\"}).reset_index(drop=False)"
      ],
      "execution_count": 156,
      "outputs": []
    },
    {
      "cell_type": "code",
      "metadata": {
        "id": "SiDeWMj9SVrK",
        "colab_type": "code",
        "colab": {
          "base_uri": "https://localhost:8080/",
          "height": 204
        },
        "outputId": "a67fc5a9-056c-4c64-99b9-928c9a0711d5"
      },
      "source": [
        "df_of_states.head(5)"
      ],
      "execution_count": 163,
      "outputs": [
        {
          "output_type": "execute_result",
          "data": {
            "text/html": [
              "<div>\n",
              "<style scoped>\n",
              "    .dataframe tbody tr th:only-of-type {\n",
              "        vertical-align: middle;\n",
              "    }\n",
              "\n",
              "    .dataframe tbody tr th {\n",
              "        vertical-align: top;\n",
              "    }\n",
              "\n",
              "    .dataframe thead th {\n",
              "        text-align: right;\n",
              "    }\n",
              "</style>\n",
              "<table border=\"1\" class=\"dataframe\">\n",
              "  <thead>\n",
              "    <tr style=\"text-align: right;\">\n",
              "      <th></th>\n",
              "      <th>state</th>\n",
              "      <th>amount_of_shootings</th>\n",
              "    </tr>\n",
              "  </thead>\n",
              "  <tbody>\n",
              "    <tr>\n",
              "      <th>0</th>\n",
              "      <td>CA</td>\n",
              "      <td>701</td>\n",
              "    </tr>\n",
              "    <tr>\n",
              "      <th>1</th>\n",
              "      <td>TX</td>\n",
              "      <td>426</td>\n",
              "    </tr>\n",
              "    <tr>\n",
              "      <th>2</th>\n",
              "      <td>FL</td>\n",
              "      <td>324</td>\n",
              "    </tr>\n",
              "    <tr>\n",
              "      <th>3</th>\n",
              "      <td>AZ</td>\n",
              "      <td>222</td>\n",
              "    </tr>\n",
              "    <tr>\n",
              "      <th>4</th>\n",
              "      <td>CO</td>\n",
              "      <td>168</td>\n",
              "    </tr>\n",
              "  </tbody>\n",
              "</table>\n",
              "</div>"
            ],
            "text/plain": [
              "  state  amount_of_shootings\n",
              "0    CA                  701\n",
              "1    TX                  426\n",
              "2    FL                  324\n",
              "3    AZ                  222\n",
              "4    CO                  168"
            ]
          },
          "metadata": {
            "tags": []
          },
          "execution_count": 163
        }
      ]
    },
    {
      "cell_type": "code",
      "metadata": {
        "id": "dx3dzOPzjn_P",
        "colab_type": "code",
        "colab": {
          "base_uri": "https://localhost:8080/",
          "height": 34
        },
        "outputId": "37c6e2b4-a814-468d-dfec-b7be85ae7acf"
      },
      "source": [
        "df_of_states.amount_of_shootings.mean()"
      ],
      "execution_count": 178,
      "outputs": [
        {
          "output_type": "execute_result",
          "data": {
            "text/plain": [
              "95.98039215686275"
            ]
          },
          "metadata": {
            "tags": []
          },
          "execution_count": 178
        }
      ]
    },
    {
      "cell_type": "code",
      "metadata": {
        "id": "_-oTDOrGfHmO",
        "colab_type": "code",
        "colab": {
          "base_uri": "https://localhost:8080/",
          "height": 530
        },
        "outputId": "b7ce9d74-d7a9-4b79-cc3a-71ba5fb4a092"
      },
      "source": [
        "plt.figure(figsize=(20, 8))\n",
        "plt.title('Amount of shootings by state')\n",
        "plt.xlabel('States')\n",
        "plt.ylabel('Amount')\n",
        "sns.barplot(x='state', y='amount_of_shootings', data=df_of_states )\n",
        "plt.plot([0,50], [95.98, 95.98], linewidth=2)"
      ],
      "execution_count": 180,
      "outputs": [
        {
          "output_type": "execute_result",
          "data": {
            "text/plain": [
              "[<matplotlib.lines.Line2D at 0x7f8867930978>]"
            ]
          },
          "metadata": {
            "tags": []
          },
          "execution_count": 180
        },
        {
          "output_type": "display_data",
          "data": {
            "image/png": "[encoded data removed]",
            "text/plain": [
              "<Figure size 1440x576 with 1 Axes>"
            ]
          },
          "metadata": {
            "tags": [],
            "needs_background": "light"
          }
        }
      ]
    },
    {
      "cell_type": "code",
      "metadata": {
        "id": "a4sX-wKahwRX",
        "colab_type": "code",
        "colab": {}
      },
      "source": [
        ""
      ],
      "execution_count": null,
      "outputs": []
    }
  ]
}